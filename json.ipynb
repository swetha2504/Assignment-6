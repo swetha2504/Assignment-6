{
 "cells": [
  {
   "cell_type": "markdown",
   "id": "88d83a29",
   "metadata": {},
   "source": [
    "# Employee.json"
   ]
  },
  {
   "cell_type": "code",
   "execution_count": 10,
   "id": "7665507d",
   "metadata": {},
   "outputs": [
    {
     "name": "stdout",
     "output_type": "stream",
     "text": [
      "{'Amaya': ['15-02-1995', '5.5 inch', 'uttarpradesh']} {'Aadhya': ['28-05-2000', '5.2', 'DataScience']} {'Ashwin': ['02-05-1999', '5.8 inch', 'Himchalpradesh']} {'Aman': ['27-08-1996', '5.6 inch', 'Andhrapradesh']} {'Arha': ['03-10-2001', '5.6 inch', 'Arunchalpradesh']}\n"
     ]
    }
   ],
   "source": [
    "import json\n",
    "\n",
    "employe_1 = '{\"Aadhya\": [\"28-05-2000\", \"5.2\", \"DataScience\"]}'\n",
    "employe_2 ='{\"Amaya\":[\"15-02-1995\",\"5.5 inch\",\"uttarpradesh\"]}'\n",
    "employe_3='{\"Ashwin\":[\"02-05-1999\",\"5.8 inch\",\"Himchalpradesh\"]}'\n",
    "employe_4='{\"Aman\":[\"27-08-1996\",\"5.6 inch\",\"Andhrapradesh\"]}'\n",
    "employe_5='{\"Arha\":[\"03-10-2001\",\"5.6 inch\",\"Arunchalpradesh\"]}'\n",
    "    \n",
    "list_1=json.loads(employe_1)\n",
    "list_2=json.loads(employe_2)\n",
    "list_3=json.loads(employe_3)\n",
    "list_4=json.loads(employe_4)\n",
    "list_5=json.loads(employe_5)\n",
    "\n",
    "\n",
    "print(list_2,list_1,list_3,list_4,list_5)\n",
    "\n",
    "\n",
    "\n",
    "    \n",
    "    \n",
    "    "
   ]
  },
  {
   "cell_type": "code",
   "execution_count": null,
   "id": "e556ea80",
   "metadata": {},
   "outputs": [],
   "source": []
  },
  {
   "cell_type": "code",
   "execution_count": null,
   "id": "b88f6e4b",
   "metadata": {},
   "outputs": [],
   "source": []
  },
  {
   "cell_type": "markdown",
   "id": "a1b43303",
   "metadata": {},
   "source": [
    "# 2. Create a dictionary of any 7 Indian states and their capitals. Write this into a JSON file.\n",
    "\n"
   ]
  },
  {
   "cell_type": "code",
   "execution_count": 2,
   "id": "b88c1cfa",
   "metadata": {},
   "outputs": [
    {
     "name": "stdout",
     "output_type": "stream",
     "text": [
      "{\"state1\": {\"state\": \"Himachal pradesh\", \"capital\": \"shimla\"}, \"state2\": {\"state\": \" Arunachal pradesh\", \"capital\": \"Itanagar\"}, \"state3\": {\"state\": \"Madhya pradesh\", \"capital\": \"Bhopal\"}, \"state4\": {\"state\": \"Uttar pradesh\", \"capital\": \"Lucknow\"}, \"state5\": {\"state\": \"Andhra pradesh\", \"capital\": \"amaravati\"}, \"state6\": {\"state\": \"Telangana\", \"capital\": \" Hyderabad\"}, \"state7\": {\"state\": \"westbengal\", \"capital\": \"kolkata\"}}\n"
     ]
    }
   ],
   "source": [
    "import json\n",
    "\n",
    "state1 = {\"state\" : \"Himachal pradesh\",\n",
    "        \"capital\":\"shimla\"}\n",
    "state2 ={\"state\" : \" Arunachal pradesh\",\n",
    "     \"capital\":\"Itanagar\"}\n",
    "state3 = {\"state\" : \"Madhya pradesh\",\n",
    "       \"capital\":\"Bhopal\"}\n",
    "state4 = {\"state\" : \"Uttar pradesh\",\n",
    "     \"capital\":\"Lucknow\" }\n",
    "state5 ={\"state\" : \"Andhra pradesh\",\n",
    "     \"capital\":\"amaravati\"}\n",
    "state6 ={\"state\":\"Telangana\",\n",
    "         \"capital\":\" Hyderabad\"}\n",
    "state7 = {\"state\" :\"westbengal\",\n",
    "    \"capital\":\"kolkata\"}\n",
    "    \n",
    "\n",
    "\n",
    "states ={\n",
    "    \"state1\":state1,\n",
    "    \"state2\":state2,\n",
    "    \"state3\":state3,\n",
    "    \"state4\":state4,\n",
    "    \"state5\":state5,\n",
    "    \"state6\":state6,\n",
    "    \"state7\":state7\n",
    "}\n",
    "\n",
    "y=json.dumps(states)\n",
    "print(y)\n",
    "\n",
    "\n",
    "        "
   ]
  },
  {
   "cell_type": "markdown",
   "id": "3e7bd338",
   "metadata": {},
   "source": [
    "# Assignment-2"
   ]
  },
  {
   "cell_type": "code",
   "execution_count": 3,
   "id": "f8f7ba94",
   "metadata": {},
   "outputs": [],
   "source": [
    "class Dog:\n",
    "\n",
    "        def __init__(self,name,age,coatcolour):\n",
    "            self.name=name\n",
    "            self.age= age\n",
    "            self.coatcolour=coatcolour\n",
    "            self.height=5.2\n",
    "        def description(self):\n",
    "            self.name\n",
    "            self.age\n",
    "            print( \"my name is : \",self.name)\n",
    "            print(\"age: \",self.age)\n",
    "        def get_info(self):\n",
    "            self.coatcolour\n",
    "            print(\"my coatcolour :\", self.coatcolour)\n",
    "class jackrussellTerrier(Dog):\n",
    "          \n",
    "        def __init__(self,weight):\n",
    "            Dog.__init__(self,\"jack\",5,\"blue\")\n",
    "            self.weight=30\n",
    "            print(\"weight:\",self.weight)\n",
    "            print(\"height :\",self.height)\n",
    "class Bulldog(Dog):\n",
    "    \n",
    "       def __init__(self):\n",
    "        Dog.__init__(self,\"tom\",8,\"cyan\")\n",
    "        jackrussellTerrier.__init__(self,30)\n",
    "        self.height=5.3\n",
    "        print(\"Height:\",self.height)\n",
    "\n",
    "        \n",
    "        "
   ]
  },
  {
   "cell_type": "code",
   "execution_count": 4,
   "id": "8765bc78",
   "metadata": {},
   "outputs": [],
   "source": [
    "d1=Dog(\"tommy\",3,\"red\")"
   ]
  },
  {
   "cell_type": "code",
   "execution_count": 5,
   "id": "73f0263a",
   "metadata": {},
   "outputs": [
    {
     "name": "stdout",
     "output_type": "stream",
     "text": [
      "my name is :  tommy\n",
      "age:  3\n",
      "my coatcolour : red\n"
     ]
    }
   ],
   "source": [
    "d1.description()\n",
    "d1.get_info()"
   ]
  },
  {
   "cell_type": "code",
   "execution_count": 6,
   "id": "1a11832d",
   "metadata": {},
   "outputs": [
    {
     "name": "stdout",
     "output_type": "stream",
     "text": [
      "weight: 30\n",
      "height : 5.2\n",
      "my name is :  jack\n",
      "age:  5\n"
     ]
    },
    {
     "data": {
      "text/plain": [
       "5.2"
      ]
     },
     "execution_count": 6,
     "metadata": {},
     "output_type": "execute_result"
    }
   ],
   "source": [
    "d2=jackrussellTerrier(30)\n",
    "d2.description()\n",
    "d2.weight\n",
    "d2.height\n"
   ]
  },
  {
   "cell_type": "code",
   "execution_count": 7,
   "id": "69f2dec7",
   "metadata": {},
   "outputs": [
    {
     "name": "stdout",
     "output_type": "stream",
     "text": [
      "weight: 30\n",
      "height : 5.2\n",
      "Height: 5.3\n",
      "my name is :  jack\n",
      "age:  5\n"
     ]
    },
    {
     "data": {
      "text/plain": [
       "30"
      ]
     },
     "execution_count": 7,
     "metadata": {},
     "output_type": "execute_result"
    }
   ],
   "source": [
    "d3=Bulldog()\n",
    "d3.description()\n",
    "d3.weight"
   ]
  },
  {
   "cell_type": "code",
   "execution_count": null,
   "id": "ac96f246",
   "metadata": {},
   "outputs": [],
   "source": []
  },
  {
   "cell_type": "code",
   "execution_count": null,
   "id": "90d487ac",
   "metadata": {},
   "outputs": [],
   "source": []
  }
 ],
 "metadata": {
  "kernelspec": {
   "display_name": "Python 3 (ipykernel)",
   "language": "python",
   "name": "python3"
  },
  "language_info": {
   "codemirror_mode": {
    "name": "ipython",
    "version": 3
   },
   "file_extension": ".py",
   "mimetype": "text/x-python",
   "name": "python",
   "nbconvert_exporter": "python",
   "pygments_lexer": "ipython3",
   "version": "3.10.9"
  }
 },
 "nbformat": 4,
 "nbformat_minor": 5
}
